{
  "nbformat": 4,
  "nbformat_minor": 0,
  "metadata": {
    "colab": {
      "provenance": [],
      "authorship_tag": "ABX9TyM3lsImaiPNCF3R7OBlQ9uG",
      "include_colab_link": true
    },
    "kernelspec": {
      "name": "python3",
      "display_name": "Python 3"
    },
    "language_info": {
      "name": "python"
    }
  },
  "cells": [
    {
      "cell_type": "markdown",
      "metadata": {
        "id": "view-in-github",
        "colab_type": "text"
      },
      "source": [
        "<a href=\"https://colab.research.google.com/github/Jyothipindi07/Python/blob/main/data_types.ipynb\" target=\"_parent\"><img src=\"https://colab.research.google.com/assets/colab-badge.svg\" alt=\"Open In Colab\"/></a>"
      ]
    },
    {
      "cell_type": "code",
      "execution_count": 1,
      "metadata": {
        "colab": {
          "base_uri": "https://localhost:8080/"
        },
        "id": "_pJZ6tx5j6iS",
        "outputId": "80e51ea4-723f-43d0-f749-083d9cb312ea"
      },
      "outputs": [
        {
          "output_type": "stream",
          "name": "stdout",
          "text": [
            "['apple', 'banana', 'orange', 'grapes', 'banana', 'lemon']\n",
            "['apple', 'banana', 'orange', 'cherry', 'grapes', 'banana']\n",
            "['apple', 'banana', 'cherry', 'mango', 'pine']\n",
            "['apple', 'banana', 'grapes', 'banana']\n",
            "[]\n",
            "['apple', 'orange', 'grapes', 'banana']\n",
            "['apple', 'banana', 'orange', 'grapes', 'banana']\n",
            "2\n",
            "['apple', 'banana', 'orange', 'grapes', 'banana']\n"
          ]
        }
      ],
      "source": [
        "#list\n",
        "#append\n",
        "y=['apple','banana','orange','grapes','banana']\n",
        "y.append(\"lemon\")\n",
        "print(y)\n",
        "\n",
        "#insert\n",
        "y=['apple','banana','orange','grapes','banana']\n",
        "y.insert(3,\"cherry\")\n",
        "print(y)\n",
        "\n",
        "#extend\n",
        "v=[\"apple\",\"banana\",\"cherry\"]\n",
        "y=[\"mango\",\"pine\"]\n",
        "v.extend(y)\n",
        "print(v)\n",
        "\n",
        "#pop\n",
        "y=['apple','banana','orange','grapes','banana']\n",
        "y.pop(2)\n",
        "print(y)\n",
        "\n",
        "#clear\n",
        "y=['apple','banana','orange','grapes','banana']\n",
        "y.clear()\n",
        "print(y)\n",
        "\n",
        "#remove\n",
        "y=['apple','banana','orange','grapes','banana']\n",
        "y.remove(\"banana\")\n",
        "print(y)\n",
        "\n",
        "#copy\n",
        "y=['apple','banana','orange','grapes','banana']\n",
        "y.copy()\n",
        "print(y)\n",
        "\n",
        "#count\n",
        "y=['apple','banana','orange','grapes','banana']\n",
        "x=y.count(\"banana\")\n",
        "print(x)\n",
        "\n",
        "#index\n",
        "y=['apple','banana','orange','grapes','banana']\n",
        "y.index(\"banana\")\n",
        "print(y)\n"
      ]
    },
    {
      "cell_type": "code",
      "source": [
        "#tuple\n",
        "#count\n",
        "a=(1,2,3,4,5,6,7,4)\n",
        "x=a.count(2)\n",
        "print(x)\n",
        "\n",
        "#index\n",
        "a=(1,2,3,4,5,6,7,4)\n",
        "x=a.index(5)\n",
        "print(x)"
      ],
      "metadata": {
        "colab": {
          "base_uri": "https://localhost:8080/"
        },
        "id": "ae348HpRoebW",
        "outputId": "de1e420e-bb23-435e-83eb-fb91029154e2"
      },
      "execution_count": 2,
      "outputs": [
        {
          "output_type": "stream",
          "name": "stdout",
          "text": [
            "1\n",
            "4\n"
          ]
        }
      ]
    },
    {
      "cell_type": "code",
      "source": [
        "#dict\n",
        "x={\"name\":\"radha\",\"age\":19}\n",
        "print(x.keys())\n",
        "print(x.values())\n",
        "print(x.items())\n",
        "print(x)\n",
        "print(type(x))\n",
        "\n",
        "\n",
        "#clear\n",
        "x={\"name\":\"radha\",\"age\":19}\n",
        "x.clear()\n",
        "print(x)\n",
        "\n",
        "#copy\n",
        "x={\"name\":\"radha\",\"age\":19}\n",
        "x.copy()\n",
        "print(x)\n",
        "\n",
        "#get\n",
        "x={\"name\":\"radha\",\"age\":19}\n",
        "y=x.get(\"name\")\n",
        "print(y)\n",
        "\n",
        "#pop\n",
        "x={\"name\":\"radha\",\"age\":19}\n",
        "x.pop(\"age\")\n",
        "print(x)\n",
        "\n",
        "#popitem\n",
        "x={\"name\":\"radha\",\"age\":19,\"course\":\"ADS\"}\n",
        "x.popitem()\n",
        "print(x)\n",
        "\n",
        "#update\n",
        "x={\"name\":\"radha\",\"age\":19,}\n",
        "x.update({\"course\":\"ADS\"})\n",
        "print(x)"
      ],
      "metadata": {
        "colab": {
          "base_uri": "https://localhost:8080/"
        },
        "id": "-DF0m011qzZD",
        "outputId": "555222b9-552c-45d6-8a22-0161b4731ec0"
      },
      "execution_count": 8,
      "outputs": [
        {
          "output_type": "stream",
          "name": "stdout",
          "text": [
            "dict_keys(['name', 'age'])\n",
            "dict_values(['radha', 19])\n",
            "dict_items([('name', 'radha'), ('age', 19)])\n",
            "{'name': 'radha', 'age': 19}\n",
            "<class 'dict'>\n",
            "{}\n",
            "{'name': 'radha', 'age': 19}\n",
            "radha\n",
            "{'name': 'radha'}\n",
            "{'name': 'radha', 'age': 19}\n",
            "{'name': 'radha', 'age': 19, 'course': 'ADS'}\n"
          ]
        }
      ]
    },
    {
      "cell_type": "code",
      "source": [
        "#sets\n",
        "#add\n",
        "x={\"apple\",\"banana\",\"cherry\"}\n",
        "x.add(\"orange\")\n",
        "print(x)\n",
        "\n",
        "#clear\n",
        "x={\"apple\",\"banana\",\"cherry\"}\n",
        "x.clear()\n",
        "print(x)\n",
        "\n",
        "#copy\n",
        "x={\"apple\",\"banana\",\"cherry\"}\n",
        "x.copy()\n",
        "print(x)\n",
        "\n",
        "#difference\n",
        "x={\"apple\",\"banana\",\"cherry\"}\n",
        "y={\"google\",\"microsoft\",\"apple\"}\n",
        "z=x.difference(y)\n",
        "print(z)\n",
        "\n",
        "#pop\n",
        "x={\"apple\",\"banana\",\"cherry\"}\n",
        "x.pop()\n",
        "print(x)\n",
        "\n",
        "#remove\n",
        "x={\"apple\",\"banana\",\"cherry\"}\n",
        "x.remove(\"banana\")\n",
        "print(x)\n"
      ],
      "metadata": {
        "colab": {
          "base_uri": "https://localhost:8080/"
        },
        "id": "2GUJN8QtsvEE",
        "outputId": "9161c7be-354f-4a4f-f852-265c4fb0b411"
      },
      "execution_count": 12,
      "outputs": [
        {
          "output_type": "stream",
          "name": "stdout",
          "text": [
            "{'cherry', 'apple', 'orange', 'banana'}\n",
            "set()\n",
            "{'cherry', 'apple', 'banana'}\n",
            "{'cherry', 'banana'}\n",
            "{'apple', 'banana'}\n",
            "{'cherry', 'apple'}\n"
          ]
        }
      ]
    },
    {
      "cell_type": "code",
      "source": [],
      "metadata": {
        "id": "9vCB9Ihls0Yu"
      },
      "execution_count": null,
      "outputs": []
    }
  ]
}