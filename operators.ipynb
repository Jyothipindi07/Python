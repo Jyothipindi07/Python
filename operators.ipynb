{
  "nbformat": 4,
  "nbformat_minor": 0,
  "metadata": {
    "colab": {
      "provenance": [],
      "authorship_tag": "ABX9TyNu1EaBLaOJVuNy15FnXDNp",
      "include_colab_link": true
    },
    "kernelspec": {
      "name": "python3",
      "display_name": "Python 3"
    },
    "language_info": {
      "name": "python"
    }
  },
  "cells": [
    {
      "cell_type": "markdown",
      "metadata": {
        "id": "view-in-github",
        "colab_type": "text"
      },
      "source": [
        "<a href=\"https://colab.research.google.com/github/Jyothipindi07/Python/blob/main/operators.ipynb\" target=\"_parent\"><img src=\"https://colab.research.google.com/assets/colab-badge.svg\" alt=\"Open In Colab\"/></a>"
      ]
    },
    {
      "cell_type": "code",
      "execution_count": null,
      "metadata": {
        "id": "qhpBJAMgWs3E"
      },
      "outputs": [],
      "source": [
        "#arthimatic\n",
        "a=int(input())\n",
        "b=int(input())\n",
        "print(a+b)\n",
        "print(a-b)\n",
        "print(a*b)\n",
        "print(a/b)\n",
        "print(a//b)\n",
        "print(a%b)\n",
        "print(a**b)\n",
        "\n",
        "#assignment\n",
        "a=int(input())\n",
        "b=int(input())\n",
        "a+=b\n",
        "print(a)\n",
        "a-=b\n",
        "print(a)\n",
        "a*=b\n",
        "print(a)\n",
        "a/=b\n",
        "print(a)\n",
        "a//=b\n",
        "print(a)\n",
        "\n",
        "#comparision\n",
        "a=int(input())\n",
        "b=int(input())\n",
        "print(a==b)\n",
        "print(a!=b)\n",
        "print(a>b)\n",
        "print(a<b)\n",
        "print(a>=b)\n",
        "print(a<=b)\n",
        "\n",
        "#logical\n",
        "a=int(input())\n",
        "b=int(input())\n",
        "print(a>b and a<b)\n",
        "print(a>b or a<b)\n",
        "print(not(a>b))\n",
        "\n",
        "#membership\n",
        "a=int(input())\n",
        "b=int(input())\n",
        "print(a in b)\n",
        "print(a not in b)"
      ]
    }
  ]
}